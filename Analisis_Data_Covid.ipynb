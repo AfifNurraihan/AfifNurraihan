{
  "nbformat": 4,
  "nbformat_minor": 0,
  "metadata": {
    "colab": {
      "name": "Analisis Data Covid.ipynb",
      "provenance": [],
      "collapsed_sections": [],
      "authorship_tag": "ABX9TyOg8+p8voU1dlIreQQh6UDu",
      "include_colab_link": true
    },
    "kernelspec": {
      "name": "python3",
      "display_name": "Python 3"
    }
  },
  "cells": [
    {
      "cell_type": "markdown",
      "metadata": {
        "id": "view-in-github",
        "colab_type": "text"
      },
      "source": [
        "<a href=\"https://colab.research.google.com/github/AfifNurraihan/AfifNurraihan/blob/main/Analisis_Data_Covid.ipynb\" target=\"_parent\"><img src=\"https://colab.research.google.com/assets/colab-badge.svg\" alt=\"Open In Colab\"/></a>"
      ]
    },
    {
      "cell_type": "code",
      "metadata": {
        "id": "Yh3TXjEhs88q",
        "outputId": "b632cafc-ed31-4289-9258-88ba6f054fb8",
        "colab": {
          "base_uri": "https://localhost:8080/",
          "height": 147
        }
      },
      "source": [
        "import requests\n",
        "resp_jateng=requests.get('https://data.covid19.go.id/public/api/prov_detail_JAWA_TENGAH.json')\n",
        "cov_jateng_raw=resp_jateng.json()\n",
        "print('Nama-nama elemen utama: \\n', cov_jateng_raw.keys())\n",
        "print('\\nJumlah total kasus COVID-19 di Jawa Tengah : %d' %cov_jateng_raw['kasus_total'])\n",
        "print('Presentase kematian akibat Covid-19ndi Jawa Tengah : %f.2%%' %cov_jateng_raw['meninggal_persen'])\n",
        "print('Presentase tingkat kesembuhan dari covid-19 di Jawa Tengah : %f.2%%' %cov_jateng_raw['sembuh_persen'])"
      ],
      "execution_count": 8,
      "outputs": [
        {
          "output_type": "stream",
          "text": [
            "Nama-nama elemen utama: \n",
            " dict_keys(['last_date', 'provinsi', 'kasus_total', 'kasus_tanpa_tgl', 'kasus_dengan_tgl', 'meninggal_persen', 'meninggal_tanpa_tgl', 'meninggal_dengan_tgl', 'sembuh_persen', 'sembuh_tanpa_tgl', 'sembuh_dengan_tgl', 'list_perkembangan', 'data'])\n",
            "\n",
            "Jumlah total kasus COVID-19 di Jawa Tengah : 28307\n",
            "Presentase kematian akibat Covid-19ndi Jawa Tengah : 5.542799.2%\n",
            "Presentase tingkat kesembuhan dari covid-19 di Jawa Tengah : 80.050871.2%\n"
          ],
          "name": "stdout"
        }
      ]
    },
    {
      "cell_type": "code",
      "metadata": {
        "id": "esbaiozTvhSG",
        "outputId": "463e1cf0-f5e3-4a3f-bc49-e064ada131a1",
        "colab": {
          "base_uri": "https://localhost:8080/",
          "height": 807
        }
      },
      "source": [
        "#Menampilkan Informasi Data Covid\n",
        "import numpy as np\n",
        "import pandas as pd\n",
        "cov_jabar=pd.DataFrame(cov_jabar_raw['list_perkembangan'])\n",
        "print('Info cov_jabar : \\n',cov_jabar.info())\n",
        "print('\\nLima data teratas cov_jabar : \\n',cov_jabar.head())\n",
        "\n",
        "#Menjinakan Data \n",
        "cov_jabar_tidy=(cov_jabar.drop(columns=[item for item in cov_jabar.columns \n",
        "                                          if item.startswith('AKUMULASI')\n",
        "                                          or item.startswith('DIRAWAT')])\n",
        ".rename(columns=str.lower)\n",
        ".rename(columns={'kasus':'kasus_baru'})\n",
        ")\n",
        "cov_jabar_tidy['tanggal']=pd.to_datetime(cov_jabar_tidy['tanggal']*1e6,unit='ns')\n",
        "print('Lima data teratas : \\n',cov_jabar_tidy.head(1000))"
      ],
      "execution_count": 25,
      "outputs": [
        {
          "output_type": "stream",
          "text": [
            "<class 'pandas.core.frame.DataFrame'>\n",
            "RangeIndex: 213 entries, 0 to 212\n",
            "Data columns (total 9 columns):\n",
            " #   Column                        Non-Null Count  Dtype\n",
            "---  ------                        --------------  -----\n",
            " 0   tanggal                       213 non-null    int64\n",
            " 1   KASUS                         213 non-null    int64\n",
            " 2   MENINGGAL                     213 non-null    int64\n",
            " 3   SEMBUH                        213 non-null    int64\n",
            " 4   DIRAWAT_OR_ISOLASI            213 non-null    int64\n",
            " 5   AKUMULASI_KASUS               213 non-null    int64\n",
            " 6   AKUMULASI_SEMBUH              213 non-null    int64\n",
            " 7   AKUMULASI_MENINGGAL           213 non-null    int64\n",
            " 8   AKUMULASI_DIRAWAT_OR_ISOLASI  213 non-null    int64\n",
            "dtypes: int64(9)\n",
            "memory usage: 15.1 KB\n",
            "Info cov_jabar : \n",
            " None\n",
            "\n",
            "Lima data teratas cov_jabar : \n",
            "          tanggal  KASUS  ...  AKUMULASI_MENINGGAL  AKUMULASI_DIRAWAT_OR_ISOLASI\n",
            "0  1584489600000      1  ...                    1                             0\n",
            "1  1584576000000      1  ...                    1                             1\n",
            "2  1584662400000      2  ...                    1                             3\n",
            "3  1584748800000      1  ...                    2                             3\n",
            "4  1584835200000      0  ...                    2                             3\n",
            "\n",
            "[5 rows x 9 columns]\n",
            "Lima data teratas : \n",
            "        tanggal  kasus_baru  meninggal  sembuh\n",
            "0   2020-03-18           1          1       0\n",
            "1   2020-03-19           1          0       0\n",
            "2   2020-03-20           2          0       0\n",
            "3   2020-03-21           1          1       0\n",
            "4   2020-03-22           0          0       0\n",
            "..         ...         ...        ...     ...\n",
            "208 2020-10-12         240          7     280\n",
            "209 2020-10-13         466          9     291\n",
            "210 2020-10-14         286         10     897\n",
            "211 2020-10-15         472         28    2222\n",
            "212 2020-10-16         443          9     396\n",
            "\n",
            "[213 rows x 4 columns]\n"
          ],
          "name": "stdout"
        }
      ]
    },
    {
      "cell_type": "code",
      "metadata": {
        "id": "ydiQz-OW3wyS",
        "outputId": "4f74509e-840a-4fd3-cc72-53aaa34c2581",
        "colab": {
          "base_uri": "https://localhost:8080/",
          "height": 399
        }
      },
      "source": [
        "import matplotlib.pyplot as plt\n",
        "import matplotlib.dates as mdates\n",
        "\n",
        "plt.clf()\n",
        "fig, ax = plt.subplots(figsize=(10,5))\n",
        "ax.bar(data=cov_jabar_tidy, x='tanggal', height='kasus_baru', color='salmon')\n",
        "fig.suptitle('Kasus Harian Positif COVID-19 di Jawa Barat',\n",
        "y=1.00, fontsize=16, fontweight='bold', ha='center')\n",
        "ax.set_title('\\nTerjadi pelonjakan kasus di awal bulan Juli akibat klaster Secapa AD Bandung',\n",
        "fontsize=10)\n",
        "ax.set_xlabel('')\n",
        "ax.set_ylabel('Jumlah kasus')\n",
        "ax.text(1, -0.1, 'Sumber data: covid.19.go.id', color='blue',\n",
        "ha='right', transform=ax.transAxes)\n",
        "\n",
        "ax.xaxis.set_major_locator(mdates.MonthLocator())\n",
        "ax.xaxis.set_major_formatter(mdates.DateFormatter('%b %Y'))\n",
        "\n",
        "plt.grid(axis='y')\n",
        "plt.tight_layout()\n",
        "plt.show()"
      ],
      "execution_count": 27,
      "outputs": [
        {
          "output_type": "display_data",
          "data": {
            "text/plain": [
              "<Figure size 432x288 with 0 Axes>"
            ]
          },
          "metadata": {
            "tags": []
          }
        },
        {
          "output_type": "display_data",
          "data": {
            "image/png": "[encoded data removed]",
            "text/plain": [
              "<Figure size 720x360 with 1 Axes>"
            ]
          },
          "metadata": {
            "tags": [],
            "needs_background": "light"
          }
        }
      ]
    },
    {
      "cell_type": "code",
      "metadata": {
        "id": "97b3eTFg7Dej",
        "outputId": "801db3ca-dc06-4a70-96d4-453f9ae8c47b",
        "colab": {
          "base_uri": "https://localhost:8080/",
          "height": 389
        }
      },
      "source": [
        "import matplotlib.pyplot as plt\n",
        "import matplotlib.dates as mdates\n",
        "\n",
        "plt.clf()\n",
        "fig, ax = plt.subplots(figsize=(10,5))\n",
        "ax.bar(data=cov_jabar_tidy, x='tanggal', height='sembuh', color='olivedrab')\n",
        "ax.set_title('Kasus Harian Sembuh Dari COVID-19 di Jawa Barat',\n",
        "fontsize=22)\n",
        "ax.set_xlabel('')\n",
        "ax.set_ylabel('Jumlah kasus')\n",
        "ax.text(1, -0.1, 'Sumber data: covid.19.go.id', color='blue',\n",
        "ha='right', transform=ax.transAxes)\n",
        "\n",
        "ax.xaxis.set_major_locator(mdates.MonthLocator())\n",
        "ax.xaxis.set_major_formatter(mdates.DateFormatter('%b %Y'))\n",
        "\n",
        "plt.grid(axis='y')\n",
        "plt.tight_layout()\n",
        "plt.show()"
      ],
      "execution_count": 28,
      "outputs": [
        {
          "output_type": "display_data",
          "data": {
            "text/plain": [
              "<Figure size 432x288 with 0 Axes>"
            ]
          },
          "metadata": {
            "tags": []
          }
        },
        {
          "output_type": "display_data",
          "data": {
            "image/png": "[encoded data removed]",
            "text/plain": [
              "<Figure size 720x360 with 1 Axes>"
            ]
          },
          "metadata": {
            "tags": [],
            "needs_background": "light"
          }
        }
      ]
    },
    {
      "cell_type": "code",
      "metadata": {
        "id": "kyp1mly68fLD",
        "outputId": "e6bbb772-2980-4fdc-c2d3-2de543310539",
        "colab": {
          "base_uri": "https://localhost:8080/",
          "height": 389
        }
      },
      "source": [
        "import matplotlib.pyplot as plt\n",
        "import matplotlib.dates as mdates\n",
        "\n",
        "plt.clf()\n",
        "fig, ax = plt.subplots(figsize=(10,5))\n",
        "ax.bar(data=cov_jabar_tidy, x='tanggal', height='meninggal', color='slategrey')\n",
        "ax.set_title('Kasus Harian Meninggal Dari COVID-19 di Jawa Barat',\n",
        "fontsize=22)\n",
        "ax.set_xlabel('')\n",
        "ax.set_ylabel('Jumlah kasus')\n",
        "ax.text(1, -0.1, 'Sumber data: covid.19.go.id', color='blue',\n",
        "ha='right', transform=ax.transAxes)\n",
        "\n",
        "ax.xaxis.set_major_locator(mdates.MonthLocator())\n",
        "ax.xaxis.set_major_formatter(mdates.DateFormatter('%b %Y'))\n",
        "\n",
        "plt.grid(axis='y')\n",
        "plt.tight_layout()\n",
        "plt.show()"
      ],
      "execution_count": 30,
      "outputs": [
        {
          "output_type": "display_data",
          "data": {
            "text/plain": [
              "<Figure size 432x288 with 0 Axes>"
            ]
          },
          "metadata": {
            "tags": []
          }
        },
        {
          "output_type": "display_data",
          "data": {
            "image/png": "[encoded data removed]",
            "text/plain": [
              "<Figure size 720x360 with 1 Axes>"
            ]
          },
          "metadata": {
            "tags": [],
            "needs_background": "light"
          }
        }
      ]
    },
    {
      "cell_type": "code",
      "metadata": {
        "id": "AFtGv_gB8kOP",
        "outputId": "d3d1d7cd-7384-42cc-ed4a-d8aaba0e3065",
        "colab": {
          "base_uri": "https://localhost:8080/",
          "height": 384
        }
      },
      "source": [
        "cov_jabar_pekanan = (cov_jabar_tidy.set_index('tanggal')['kasus_baru']\n",
        ".resample('W')\n",
        ".sum()\n",
        ".reset_index()\n",
        ".rename(columns={'kasus_baru': 'jumlah'})\n",
        ")\n",
        "cov_jabar_pekanan['tahun'] = cov_jabar_pekanan['tanggal'].apply(lambda x: x.year)\n",
        "cov_jabar_pekanan['pekan_ke'] = cov_jabar_pekanan['tanggal'].apply(lambda x: x.weekofyear)\n",
        "cov_jabar_pekanan = cov_jabar_pekanan[['tahun', 'pekan_ke', 'jumlah']]\n",
        "\n",
        "print('Info cov_jabar_pekanan:')\n",
        "print(cov_jabar_pekanan.info())\n",
        "print('\\nLima data teratas cov_jabar_pekanan:\\n', cov_jabar_pekanan.head())"
      ],
      "execution_count": 31,
      "outputs": [
        {
          "output_type": "stream",
          "text": [
            "Info cov_jabar_pekanan:\n",
            "<class 'pandas.core.frame.DataFrame'>\n",
            "RangeIndex: 31 entries, 0 to 30\n",
            "Data columns (total 3 columns):\n",
            " #   Column    Non-Null Count  Dtype\n",
            "---  ------    --------------  -----\n",
            " 0   tahun     31 non-null     int64\n",
            " 1   pekan_ke  31 non-null     int64\n",
            " 2   jumlah    31 non-null     int64\n",
            "dtypes: int64(3)\n",
            "memory usage: 872.0 bytes\n",
            "None\n",
            "\n",
            "Lima data teratas cov_jabar_pekanan:\n",
            "    tahun  pekan_ke  jumlah\n",
            "0   2020        12       5\n",
            "1   2020        13      47\n",
            "2   2020        14      55\n",
            "3   2020        15      80\n",
            "4   2020        16     149\n"
          ],
          "name": "stdout"
        }
      ]
    },
    {
      "cell_type": "code",
      "metadata": {
        "id": "ieh9w3BQ96z2",
        "outputId": "13fb2d5a-05ec-44c0-9212-575da175cf99",
        "colab": {
          "base_uri": "https://localhost:8080/",
          "height": 237
        }
      },
      "source": [
        "cov_jabar_pekanan['jumlah_pekanlalu'] = cov_jabar_pekanan['jumlah'].shift().replace(np.nan, 0).astype(np.int)\n",
        "cov_jabar_pekanan['lebih_baik'] = cov_jabar_pekanan['jumlah'] < cov_jabar_pekanan['jumlah_pekanlalu']\n",
        "\n",
        "print('Sepuluh data teratas:\\n', cov_jabar_pekanan.head(10))"
      ],
      "execution_count": 32,
      "outputs": [
        {
          "output_type": "stream",
          "text": [
            "Sepuluh data teratas:\n",
            "    tahun  pekan_ke  jumlah  jumlah_pekanlalu  lebih_baik\n",
            "0   2020        12       5                 0       False\n",
            "1   2020        13      47                 5       False\n",
            "2   2020        14      55                47       False\n",
            "3   2020        15      80                55       False\n",
            "4   2020        16     149                80       False\n",
            "5   2020        17     302               149       False\n",
            "6   2020        18     127               302        True\n",
            "7   2020        19     201               127       False\n",
            "8   2020        20     180               201        True\n",
            "9   2020        21     152               180        True\n"
          ],
          "name": "stdout"
        }
      ]
    },
    {
      "cell_type": "code",
      "metadata": {
        "id": "KCRWbPxj-X1y",
        "outputId": "f69456ca-9683-44d8-d42a-feae47b4d6aa",
        "colab": {
          "base_uri": "https://localhost:8080/",
          "height": 400
        }
      },
      "source": [
        "import matplotlib.pyplot as plt\n",
        "\n",
        "plt.clf()\n",
        "fig, ax = plt.subplots(figsize=(10,5))\n",
        "ax.bar(data=cov_jabar_pekanan, x='pekan_ke', height='jumlah',\n",
        "color=['mediumseagreen' if x is True else 'salmon' for x in cov_jabar_pekanan['lebih_baik']])\n",
        "fig.suptitle('Kasus Pekanan Positif COVID-19 di Jawa Barat',\n",
        "y=1.00, fontsize=16, fontweight='bold', ha='center')\n",
        "ax.set_title('Kolom hijau menunjukan penambahan kasus baru lebih sedikit dibandingkan satu pekan sebelumnya',\n",
        "fontsize=12)\n",
        "ax.set_xlabel('')\n",
        "ax.set_ylabel('Jumlah kasus')\n",
        "ax.text(1, -0.1, 'Sumber data: covid.19.go.id', color='blue',\n",
        "ha='right', transform=ax.transAxes)\n",
        "\n",
        "plt.grid(axis='y')\n",
        "plt.tight_layout()\n",
        "plt.show()"
      ],
      "execution_count": 33,
      "outputs": [
        {
          "output_type": "display_data",
          "data": {
            "text/plain": [
              "<Figure size 432x288 with 0 Axes>"
            ]
          },
          "metadata": {
            "tags": []
          }
        },
        {
          "output_type": "display_data",
          "data": {
            "image/png": "[encoded data removed]",
            "text/plain": [
              "<Figure size 720x360 with 1 Axes>"
            ]
          },
          "metadata": {
            "tags": [],
            "needs_background": "light"
          }
        }
      ]
    },
    {
      "cell_type": "code",
      "metadata": {
        "id": "WBohLrkI-32s",
        "outputId": "1a78f357-b687-4a9d-a03b-ea0cff713bb8",
        "colab": {
          "base_uri": "https://localhost:8080/",
          "height": 206
        }
      },
      "source": [
        "cov_jabar_akumulasi = cov_jabar_tidy[['tanggal']].copy()\n",
        "cov_jabar_akumulasi['akumulasi_aktif'] = (cov_jabar_tidy['kasus_baru'] - cov_jabar_tidy['sembuh'] - cov_jabar_tidy['meninggal']).cumsum()\n",
        "cov_jabar_akumulasi['akumulasi_sembuh'] = cov_jabar_tidy['sembuh'].cumsum()\n",
        "cov_jabar_akumulasi['akumulasi_meninggal'] = cov_jabar_tidy['meninggal'].cumsum()\n",
        "cov_jabar_akumulasi.tail()"
      ],
      "execution_count": 35,
      "outputs": [
        {
          "output_type": "execute_result",
          "data": {
            "text/html": [
              "<div>\n",
              "<style scoped>\n",
              "    .dataframe tbody tr th:only-of-type {\n",
              "        vertical-align: middle;\n",
              "    }\n",
              "\n",
              "    .dataframe tbody tr th {\n",
              "        vertical-align: top;\n",
              "    }\n",
              "\n",
              "    .dataframe thead th {\n",
              "        text-align: right;\n",
              "    }\n",
              "</style>\n",
              "<table border=\"1\" class=\"dataframe\">\n",
              "  <thead>\n",
              "    <tr style=\"text-align: right;\">\n",
              "      <th></th>\n",
              "      <th>tanggal</th>\n",
              "      <th>akumulasi_aktif</th>\n",
              "      <th>akumulasi_sembuh</th>\n",
              "      <th>akumulasi_meninggal</th>\n",
              "    </tr>\n",
              "  </thead>\n",
              "  <tbody>\n",
              "    <tr>\n",
              "      <th>208</th>\n",
              "      <td>2020-10-12</td>\n",
              "      <td>6276</td>\n",
              "      <td>18847</td>\n",
              "      <td>1506</td>\n",
              "    </tr>\n",
              "    <tr>\n",
              "      <th>209</th>\n",
              "      <td>2020-10-13</td>\n",
              "      <td>6442</td>\n",
              "      <td>19138</td>\n",
              "      <td>1515</td>\n",
              "    </tr>\n",
              "    <tr>\n",
              "      <th>210</th>\n",
              "      <td>2020-10-14</td>\n",
              "      <td>5821</td>\n",
              "      <td>20035</td>\n",
              "      <td>1525</td>\n",
              "    </tr>\n",
              "    <tr>\n",
              "      <th>211</th>\n",
              "      <td>2020-10-15</td>\n",
              "      <td>4043</td>\n",
              "      <td>22257</td>\n",
              "      <td>1553</td>\n",
              "    </tr>\n",
              "    <tr>\n",
              "      <th>212</th>\n",
              "      <td>2020-10-16</td>\n",
              "      <td>4081</td>\n",
              "      <td>22653</td>\n",
              "      <td>1562</td>\n",
              "    </tr>\n",
              "  </tbody>\n",
              "</table>\n",
              "</div>"
            ],
            "text/plain": [
              "       tanggal  akumulasi_aktif  akumulasi_sembuh  akumulasi_meninggal\n",
              "208 2020-10-12             6276             18847                 1506\n",
              "209 2020-10-13             6442             19138                 1515\n",
              "210 2020-10-14             5821             20035                 1525\n",
              "211 2020-10-15             4043             22257                 1553\n",
              "212 2020-10-16             4081             22653                 1562"
            ]
          },
          "metadata": {
            "tags": []
          },
          "execution_count": 35
        }
      ]
    }
  ]
}